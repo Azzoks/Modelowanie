{
 "cells": [
  {
   "cell_type": "markdown",
   "id": "760247d8",
   "metadata": {},
   "source": [
    "# Predykcja zużycia energii elektrycznej z wykorzystaniem sieci LSTM"
   ]
  },
  {
   "cell_type": "markdown",
   "id": "aefc956a",
   "metadata": {},
   "source": [
    "## 1. Import bibliotek i załadowanie danych"
   ]
  },
  {
   "cell_type": "code",
   "execution_count": null,
   "id": "5fe00f58",
   "metadata": {},
   "outputs": [],
   "source": [
    "\n",
    "import numpy as np\n",
    "import pandas as pd\n",
    "import matplotlib.pyplot as plt\n",
    "import seaborn as sns\n",
    "from sklearn.preprocessing import MinMaxScaler\n",
    "from sklearn.model_selection import train_test_split\n",
    "import torch\n",
    "import torch.nn as nn\n",
    "from torch.utils.data import DataLoader, Dataset\n",
    "\n",
    "# Sprawdzenie, czy GPU jest dostępne\n",
    "device = torch.device('cuda' if torch.cuda.is_available() else 'cpu')\n",
    "\n",
    "# Załadowanie przykładowego zbioru danych (link można zamienić na inny publiczny zbiór)\n",
    "url = \"https://raw.githubusercontent.com/jbrownlee/Datasets/master/household_power_consumption.zip\"\n",
    "df = pd.read_csv(url, sep=';', parse_dates={'datetime': ['Date', 'Time']}, infer_datetime_format=True, \n",
    "                 low_memory=False, na_values=['nan','?'], index_col='datetime')\n",
    "\n",
    "# Wyświetlenie pierwszych wierszy danych\n",
    "df.head()\n",
    "    "
   ]
  },
  {
   "cell_type": "markdown",
   "id": "60093a0b",
   "metadata": {},
   "source": [
    "## 2. Wstępne przetwarzanie danych"
   ]
  },
  {
   "cell_type": "code",
   "execution_count": null,
   "id": "e2d27229",
   "metadata": {},
   "outputs": [],
   "source": [
    "\n",
    "# Użycie jednej kolumny: Global_active_power\n",
    "data = df['Global_active_power'].dropna()\n",
    "\n",
    "# Skalowanie danych do zakresu [0, 1]\n",
    "scaler = MinMaxScaler(feature_range=(0, 1))\n",
    "data_scaled = scaler.fit_transform(data.values.reshape(-1, 1))\n",
    "\n",
    "# Konwersja do szeregów czasowych: sekwencje X -> y\n",
    "def create_sequences(data, seq_length):\n",
    "    x, y = [], []\n",
    "    for i in range(len(data) - seq_length):\n",
    "        x.append(data[i:i+seq_length])\n",
    "        y.append(data[i+seq_length])\n",
    "    return np.array(x), np.array(y)\n",
    "\n",
    "SEQ_LENGTH = 48  # sekwencja 48 próbek (np. 48 godzin)\n",
    "x, y = create_sequences(data_scaled, SEQ_LENGTH)\n",
    "\n",
    "# Podział na zbiory treningowe i testowe\n",
    "x_train, x_test, y_train, y_test = train_test_split(x, y, test_size=0.2, random_state=42)\n",
    "\n",
    "# Konwersja do tensora PyTorch\n",
    "x_train = torch.tensor(x_train, dtype=torch.float32)\n",
    "y_train = torch.tensor(y_train, dtype=torch.float32)\n",
    "x_test = torch.tensor(x_test, dtype=torch.float32)\n",
    "y_test = torch.tensor(y_test, dtype=torch.float32)\n",
    "    "
   ]
  },
  {
   "cell_type": "markdown",
   "id": "8766c822",
   "metadata": {},
   "source": [
    "## 3. Definicja modelu LSTM"
   ]
  },
  {
   "cell_type": "code",
   "execution_count": null,
   "id": "ef327198",
   "metadata": {},
   "outputs": [],
   "source": [
    "\n",
    "class LSTMModel(nn.Module):\n",
    "    def __init__(self, input_dim, hidden_dim, num_layers, output_dim):\n",
    "        super(LSTMModel, self).__init__()\n",
    "        self.hidden_dim = hidden_dim\n",
    "\n",
    "        self.lstm = nn.LSTM(input_dim, hidden_dim, num_layers, batch_first=True)\n",
    "        self.fc = nn.Linear(hidden_dim, output_dim)\n",
    "    \n",
    "    def forward(self, x):\n",
    "        out, _ = self.lstm(x)\n",
    "        out = self.fc(out[:, -1, :])  # Ostatnie wyjście LSTM\n",
    "        return out\n",
    "\n",
    "# Parametry modelu\n",
    "input_dim = 1\n",
    "hidden_dim = 50\n",
    "num_layers = 2\n",
    "output_dim = 1\n",
    "\n",
    "model = LSTMModel(input_dim, hidden_dim, num_layers, output_dim).to(device)\n",
    "    "
   ]
  },
  {
   "cell_type": "markdown",
   "id": "48fa13c4",
   "metadata": {},
   "source": [
    "## 4. Trening modelu"
   ]
  },
  {
   "cell_type": "code",
   "execution_count": null,
   "id": "3a82f464",
   "metadata": {},
   "outputs": [],
   "source": [
    "\n",
    "# Funkcja straty i optymalizator\n",
    "criterion = nn.MSELoss()\n",
    "optimizer = torch.optim.Adam(model.parameters(), lr=0.001)\n",
    "\n",
    "# Przygotowanie danych do DataLoadera\n",
    "train_data = torch.utils.data.TensorDataset(x_train, y_train)\n",
    "train_loader = DataLoader(train_data, batch_size=64, shuffle=True)\n",
    "\n",
    "# Trening\n",
    "num_epochs = 20\n",
    "for epoch in range(num_epochs):\n",
    "    model.train()\n",
    "    epoch_loss = 0\n",
    "    for x_batch, y_batch in train_loader:\n",
    "        x_batch, y_batch = x_batch.to(device), y_batch.to(device)\n",
    "        optimizer.zero_grad()\n",
    "        outputs = model(x_batch)\n",
    "        loss = criterion(outputs, y_batch)\n",
    "        loss.backward()\n",
    "        optimizer.step()\n",
    "        epoch_loss += loss.item()\n",
    "    print(f\"Epoch [{epoch+1}/{num_epochs}], Loss: {epoch_loss/len(train_loader):.4f}\")\n",
    "    "
   ]
  },
  {
   "cell_type": "markdown",
   "id": "acc62c02",
   "metadata": {},
   "source": [
    "## 5. Ewaluacja modelu"
   ]
  },
  {
   "cell_type": "code",
   "execution_count": null,
   "id": "dfa07489",
   "metadata": {},
   "outputs": [],
   "source": [
    "\n",
    "# Prognozowanie na zbiorze testowym\n",
    "model.eval()\n",
    "with torch.no_grad():\n",
    "    x_test = x_test.to(device)\n",
    "    y_test = y_test.to(device)\n",
    "    predictions = model(x_test).cpu().numpy()\n",
    "\n",
    "# Odwrotne skalowanie wyników\n",
    "y_test = scaler.inverse_transform(y_test.cpu().numpy().reshape(-1, 1))\n",
    "predictions = scaler.inverse_transform(predictions)\n",
    "\n",
    "# Wizualizacja wyników\n",
    "plt.figure(figsize=(10, 6))\n",
    "plt.plot(y_test[:100], label=\"Rzeczywiste\", color=\"blue\")\n",
    "plt.plot(predictions[:100], label=\"Prognozy\", color=\"red\")\n",
    "plt.legend()\n",
    "plt.title(\"Porównanie prognoz z rzeczywistymi danymi\")\n",
    "plt.show()\n",
    "    "
   ]
  },
  {
   "cell_type": "markdown",
   "id": "f95cf14c",
   "metadata": {},
   "source": [
    "## 6. Podsumowanie"
   ]
  },
  {
   "cell_type": "markdown",
   "id": "76079fe8",
   "metadata": {},
   "source": [
    "Model LSTM został zastosowany do predykcji zużycia energii elektrycznej. Wyniki pokazują, że model jest w stanie uchwycić trend w danych szeregów czasowych, choć mogą wystąpić pewne odchylenia w prognozach. Możliwe dalsze kroki to optymalizacja hiperparametrów i analiza wpływu cech dodatkowych, takich jak dane pogodowe."
   ]
  }
 ],
 "metadata": {},
 "nbformat": 4,
 "nbformat_minor": 5
}
