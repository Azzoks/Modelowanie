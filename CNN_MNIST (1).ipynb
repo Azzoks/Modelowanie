{
 "cells": [
  {
   "cell_type": "markdown",
   "id": "88aa3129",
   "metadata": {},
   "source": [
    "# Sieć konwolucyjna (CNN) w PyTorch - Trening na zbiorze MNIST"
   ]
  },
  {
   "cell_type": "code",
   "execution_count": null,
   "id": "148f3de2",
   "metadata": {},
   "outputs": [],
   "source": [
    "\n",
    "import torch\n",
    "import torch.nn as nn\n",
    "import torch.optim as optim\n",
    "from torch.utils.data import DataLoader\n",
    "from torchvision import datasets, transforms\n",
    "    "
   ]
  },
  {
   "cell_type": "markdown",
   "id": "20bd8a28",
   "metadata": {},
   "source": [
    "## 1. Ustawienia"
   ]
  },
  {
   "cell_type": "code",
   "execution_count": null,
   "id": "d1a2aa6f",
   "metadata": {},
   "outputs": [],
   "source": [
    "\n",
    "batch_size = 64\n",
    "learning_rate = 0.001\n",
    "num_epochs = 5\n",
    "device = torch.device('cuda' if torch.cuda.is_available() else 'cpu')\n",
    "    "
   ]
  },
  {
   "cell_type": "markdown",
   "id": "207fe54d",
   "metadata": {},
   "source": [
    "## 2. Przygotowanie danych MNIST"
   ]
  },
  {
   "cell_type": "code",
   "execution_count": null,
   "id": "23141ebf",
   "metadata": {},
   "outputs": [],
   "source": [
    "\n",
    "transform = transforms.Compose([\n",
    "    transforms.ToTensor(),\n",
    "    transforms.Normalize((0.5,), (0.5,))\n",
    "])\n",
    "\n",
    "train_dataset = datasets.MNIST(root='./data', train=True, transform=transform, download=True)\n",
    "test_dataset = datasets.MNIST(root='./data', train=False, transform=transform, download=True)\n",
    "\n",
    "train_loader = DataLoader(dataset=train_dataset, batch_size=batch_size, shuffle=True)\n",
    "test_loader = DataLoader(dataset=test_dataset, batch_size=batch_size, shuffle=False)\n",
    "    "
   ]
  },
  {
   "cell_type": "markdown",
   "id": "a293d89e",
   "metadata": {},
   "source": [
    "## 3. Definicja sieci konwolucyjnej"
   ]
  },
  {
   "cell_type": "code",
   "execution_count": null,
   "id": "e641f1a5",
   "metadata": {},
   "outputs": [],
   "source": [
    "\n",
    "class CNN(nn.Module):\n",
    "    def __init__(self):\n",
    "        super(CNN, self).__init__()\n",
    "        self.conv1 = nn.Conv2d(1, 16, kernel_size=3, stride=1, padding=1)\n",
    "        self.conv2 = nn.Conv2d(16, 32, kernel_size=3, stride=1, padding=1)\n",
    "        self.pool = nn.MaxPool2d(kernel_size=2, stride=2)\n",
    "        self.fc1 = nn.Linear(32 * 7 * 7, 128)\n",
    "        self.fc2 = nn.Linear(128, 10)\n",
    "        self.relu = nn.ReLU()\n",
    "        self.dropout = nn.Dropout(0.25)\n",
    "\n",
    "    def forward(self, x):\n",
    "        x = self.relu(self.conv1(x))\n",
    "        x = self.pool(x)\n",
    "        x = self.relu(self.conv2(x))\n",
    "        x = self.pool(x)\n",
    "        x = x.view(x.size(0), -1)  # Flatten\n",
    "        x = self.relu(self.fc1(x))\n",
    "        x = self.dropout(x)\n",
    "        x = self.fc2(x)\n",
    "        return x\n",
    "\n",
    "model = CNN().to(device)\n",
    "    "
   ]
  },
  {
   "cell_type": "markdown",
   "id": "b4cc0096",
   "metadata": {},
   "source": [
    "## 4. Strata i optymalizator"
   ]
  },
  {
   "cell_type": "code",
   "execution_count": null,
   "id": "d290c78a",
   "metadata": {},
   "outputs": [],
   "source": [
    "\n",
    "criterion = nn.CrossEntropyLoss()\n",
    "optimizer = optim.Adam(model.parameters(), lr=learning_rate)\n",
    "    "
   ]
  },
  {
   "cell_type": "markdown",
   "id": "0411aa1d",
   "metadata": {},
   "source": [
    "## 5. Funkcje treningu i testowania"
   ]
  },
  {
   "cell_type": "code",
   "execution_count": null,
   "id": "66b7e384",
   "metadata": {},
   "outputs": [],
   "source": [
    "\n",
    "def train_model(model, train_loader, criterion, optimizer):\n",
    "    model.train()\n",
    "    for epoch in range(num_epochs):\n",
    "        total_loss = 0\n",
    "        for images, labels in train_loader:\n",
    "            images, labels = images.to(device), labels.to(device)\n",
    "            optimizer.zero_grad()\n",
    "            outputs = model(images)\n",
    "            loss = criterion(outputs, labels)\n",
    "            loss.backward()\n",
    "            optimizer.step()\n",
    "            total_loss += loss.item()\n",
    "        print(f\"Epoch [{epoch+1}/{num_epochs}], Loss: {total_loss/len(train_loader):.4f}\")\n",
    "\n",
    "def test_model(model, test_loader):\n",
    "    model.eval()\n",
    "    correct = 0\n",
    "    total = 0\n",
    "    with torch.no_grad():\n",
    "        for images, labels in test_loader:\n",
    "            images, labels = images.to(device), labels.to(device)\n",
    "            outputs = model(images)\n",
    "            _, predicted = torch.max(outputs.data, 1)\n",
    "            total += labels.size(0)\n",
    "            correct += (predicted == labels).sum().item()\n",
    "    accuracy = 100 * correct / total\n",
    "    print(f\"Test Accuracy: {accuracy:.2f}%\")\n",
    "    "
   ]
  },
  {
   "cell_type": "markdown",
   "id": "9f7abfb1",
   "metadata": {},
   "source": [
    "## 6. Trening i testowanie"
   ]
  },
  {
   "cell_type": "code",
   "execution_count": null,
   "id": "60f10ba4",
   "metadata": {},
   "outputs": [],
   "source": [
    "\n",
    "train_model(model, train_loader, criterion, optimizer)\n",
    "test_model(model, test_loader)\n",
    "    "
   ]
  }
 ],
 "metadata": {},
 "nbformat": 4,
 "nbformat_minor": 5
}
